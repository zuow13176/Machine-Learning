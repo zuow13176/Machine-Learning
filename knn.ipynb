{
  "nbformat": 4,
  "nbformat_minor": 0,
  "metadata": {
    "colab": {
      "name": "knn.ipynb",
      "provenance": [],
      "authorship_tag": "ABX9TyP6v5MlHzetUCBCLKu2V8Ww",
      "include_colab_link": true
    },
    "kernelspec": {
      "name": "python3",
      "display_name": "Python 3"
    },
    "language_info": {
      "name": "python"
    }
  },
  "cells": [
    {
      "cell_type": "markdown",
      "metadata": {
        "id": "view-in-github",
        "colab_type": "text"
      },
      "source": [
        "<a href=\"https://colab.research.google.com/github/zuow13176/Machine-Learning/blob/main/knn.ipynb\" target=\"_parent\"><img src=\"https://colab.research.google.com/assets/colab-badge.svg\" alt=\"Open In Colab\"/></a>"
      ]
    },
    {
      "cell_type": "code",
      "metadata": {
        "id": "P3KxlVNXdJ9v"
      },
      "source": [
        "import sklearn\n",
        "from sklearn.utils import shuffle\n",
        "from sklearn.neighbors import KNeighborsClassifier\n",
        "from sklearn import linear_model, preprocessing\n",
        "import pandas as pd\n",
        "import numpy as np"
      ],
      "execution_count": null,
      "outputs": []
    },
    {
      "cell_type": "code",
      "metadata": {
        "id": "pnip_-BadJ1x"
      },
      "source": [
        "data = pd.read_csv(\"knn_data_sample.csv\")"
      ],
      "execution_count": null,
      "outputs": []
    },
    {
      "cell_type": "code",
      "metadata": {
        "id": "nl9PpXuwdOXj",
        "colab": {
          "base_uri": "https://localhost:8080/"
        },
        "outputId": "54a23abb-b046-4c6f-d08e-53fa527d35aa"
      },
      "source": [
        "print (data)"
      ],
      "execution_count": null,
      "outputs": [
        {
          "output_type": "stream",
          "text": [
            "   x1  y1  z1  x2  y2  z2 FallOrNot\n",
            "0   1   2   3   2   1   3         -\n",
            "1   2   1   3   3   1   2         -\n",
            "2   1   1   2   3   2   2         -\n",
            "3   2   2   3   3   2   1         -\n",
            "4   6   5   7   5   6   7         +\n",
            "5   5   6   6   6   5   7         +\n",
            "6   5   6   7   5   7   6         +\n",
            "7   7   6   7   6   5   6         +\n"
          ],
          "name": "stdout"
        }
      ]
    },
    {
      "cell_type": "code",
      "metadata": {
        "id": "UJcRP2AsdP4v"
      },
      "source": [
        "x1 = list(data[\"x1\"])\n",
        "y1 = list(data[\"y1\"])\n",
        "z1 = list(data[\"z1\"])\n",
        "x2 = list(data[\"x2\"])\n",
        "y2 = list(data[\"y2\"])\n",
        "z2 = list(data[\"z2\"])\n",
        "fallOrNot = list(data[\"FallOrNot\"])"
      ],
      "execution_count": null,
      "outputs": []
    },
    {
      "cell_type": "code",
      "metadata": {
        "id": "QlV61P9ldRwn"
      },
      "source": [
        "predict = \"class\""
      ],
      "execution_count": null,
      "outputs": []
    },
    {
      "cell_type": "code",
      "metadata": {
        "id": "GFCmf0XYdSuv"
      },
      "source": [
        "X = list(zip(x1, y1,z1, x2, y2, z2))\n",
        "Y = list(fallOrNot)"
      ],
      "execution_count": null,
      "outputs": []
    },
    {
      "cell_type": "code",
      "metadata": {
        "id": "6WeYczXfdUbt"
      },
      "source": [
        "x_train, x_test, y_train, y_test = sklearn.model_selection.train_test_split(X,Y, test_size=0.1)"
      ],
      "execution_count": null,
      "outputs": []
    },
    {
      "cell_type": "code",
      "metadata": {
        "id": "APazAjJ5dV4T"
      },
      "source": [
        "model = KNeighborsClassifier(n_neighbors=3)"
      ],
      "execution_count": null,
      "outputs": []
    },
    {
      "cell_type": "code",
      "metadata": {
        "id": "822xf1M9dXEs",
        "colab": {
          "base_uri": "https://localhost:8080/"
        },
        "outputId": "c8b2a7da-fc94-4aa9-efc1-f00dc047a5c2"
      },
      "source": [
        "model.fit(x_train, y_train)\n",
        "acc = model.score(x_test, y_test)\n",
        "print(acc)"
      ],
      "execution_count": null,
      "outputs": [
        {
          "output_type": "stream",
          "text": [
            "1.0\n"
          ],
          "name": "stdout"
        }
      ]
    },
    {
      "cell_type": "code",
      "metadata": {
        "id": "ma0PZI7XdZDv",
        "colab": {
          "base_uri": "https://localhost:8080/"
        },
        "outputId": "00a81576-6bcc-4555-bd56-faaa6f5806ce"
      },
      "source": [
        "predicted = model.predict(x_test)\n",
        "naems = [\"unacc\", \"acc\", \"good\", \"very good\"]\n",
        "for x in range(len(predicted)):\n",
        "    print(\"Predicted: \", predicted[x], \"data: \", x_test[x], \"Actual:\", y_test[x] )\n",
        "    n=model.kneighbors([x_test[x]], 7, True)\n",
        "    print(n)"
      ],
      "execution_count": null,
      "outputs": [
        {
          "output_type": "stream",
          "text": [
            "Predicted:  - data:  (1, 1, 2, 3, 2, 2) Actual: -\n",
            "(array([[ 1.73205081,  2.        ,  2.23606798, 10.        , 10.53565375,\n",
            "        10.53565375, 10.95445115]]), array([[2, 5, 0, 6, 1, 3, 4]]))\n"
          ],
          "name": "stdout"
        }
      ]
    },
    {
      "cell_type": "code",
      "metadata": {
        "id": "61bL1NApdcc_",
        "colab": {
          "base_uri": "https://localhost:8080/"
        },
        "outputId": "2c5a4bcb-4b6e-4e49-9c0f-07869584e125"
      },
      "source": [
        "print(model.predict([(7, 6, 5, 5, 6, 7)]))"
      ],
      "execution_count": null,
      "outputs": [
        {
          "output_type": "stream",
          "text": [
            "['+']\n"
          ],
          "name": "stdout"
        }
      ]
    }
  ]
}